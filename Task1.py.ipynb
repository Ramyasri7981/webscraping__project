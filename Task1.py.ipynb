{
 "cells": [
  {
   "cell_type": "code",
   "execution_count": 3,
   "id": "b7b43864-2a7c-408a-ab7e-3c8f13506b92",
   "metadata": {},
   "outputs": [],
   "source": [
    "import requests\n",
    "from bs4 import BeautifulSoup\n",
    "import pandas as pd\n",
    "import datetime"
   ]
  },
  {
   "cell_type": "code",
   "execution_count": 4,
   "id": "b249a5d6-bfc1-48dc-a55c-5b8ed092e2b5",
   "metadata": {},
   "outputs": [],
   "source": [
    "HEADERS = ({'user_agent':'Mozilla/5.0 (Windows NT 10.0; Win64; x64) AppleWebKit/537.36 (KHTML, like Gecko) Chrome/91.0.4472.124 Safari/537.36', 'Accept-Language':'en-US, en;q=0.9'})\n",
    "URL = \"https://www.amazon.in/s?k=laptop\""
   ]
  },
  {
   "cell_type": "code",
   "execution_count": null,
   "id": "ada2ed2d-96fc-457c-b764-3db5ed2e5164",
   "metadata": {},
   "outputs": [],
   "source": [
    "response = requests.get(URL, headers=HEADERS)"
   ]
  },
  {
   "cell_type": "code",
   "execution_count": null,
   "id": "1db35351-ef52-4af6-98d3-609c45cfec14",
   "metadata": {},
   "outputs": [],
   "source": [
    "response.content"
   ]
  },
  {
   "cell_type": "code",
   "execution_count": null,
   "id": "df9fea98-862a-4ad5-8ce1-3ad8bbd34e30",
   "metadata": {},
   "outputs": [],
   "source": [
    "soup = BeautifulSoup(response.content, 'html.parser')"
   ]
  },
  {
   "cell_type": "code",
   "execution_count": null,
   "id": "0b6032fb-16e5-4552-b0c3-3cf69125d529",
   "metadata": {},
   "outputs": [],
   "source": [
    "laptops = soup.find_all('div',{'data-component-type':'s-search-result'})"
   ]
  },
  {
   "cell_type": "code",
   "execution_count": null,
   "id": "870e89df-d12a-4317-9d34-fbfae8ed3f22",
   "metadata": {},
   "outputs": [],
   "source": [
    "import csv\n",
    "# open a csv file to store/write\n",
    "with open(\"amazon_laptops.csv\", mode='w', newline='', encoding='utf-8') as file:\n",
    "    writer = csv.writer(file)\n",
    "    # write csv headers\n",
    "    writer.writerow(['Title', 'Image URL', 'Rating', 'Price', 'Type'])\n",
    "    # loop through each product\n",
    "    for laptop in laptops:\n",
    "        # Extracting title\n",
    "        title_tag = laptop.select_one(\"h2.a-size-medium.a-spacing-none.a-color-base.a-text-normal span\")\n",
    "        title = title_tag.text.strip() if title_tag else \"N/A\"\n",
    "        \n",
    "        # Extracting image URL\n",
    "        image_tag = laptop.find(\"img\", class_=\"s-image\")            \n",
    "        image_url = image_tag[\"src\"] if image_tag else \"N/A\"\n",
    "        \n",
    "        # Extracting Rating\n",
    "        rating_tag = laptop.find(\"span\", class_=\"a-icon-alt\")       \n",
    "        rating = rating_tag.text.split()[0] if rating_tag else \"N/A\"\n",
    "        \n",
    "        # Extracting Price\n",
    "        price_tag = laptop.find(\"span\", class_=\"a-price-whole\")     \n",
    "        price = price_tag.text.strip() if price_tag else \"N/A\"\n",
    "        \n",
    "        # Extracting type either Ad or Oragnic\n",
    "        ad_tag = laptop.find(\"span\", string=\"Sponsored\")            \n",
    "        ad_status = \"Ad\" if ad_tag else \"Organic\"\n",
    "        \n",
    "        # Write data to CSV\n",
    "        writer.writerow([title, image_url, rating, price, ad_status])\n",
    "    print(\"Data successfully saved to amazon_laptops.csv\")"
   ]
  },
  {
   "cell_type": "code",
   "execution_count": null,
   "id": "482daba9-3540-4a6d-bf9e-bbc569fb960a",
   "metadata": {},
   "outputs": [],
   "source": []
  },
  {
   "cell_type": "code",
   "execution_count": null,
   "id": "713b56bf-5078-4fd7-93c0-8de83cdf7f14",
   "metadata": {},
   "outputs": [],
   "source": []
  }
 ],
 "metadata": {
  "kernelspec": {
   "display_name": "Python 3 (ipykernel)",
   "language": "python",
   "name": "python3"
  },
  "language_info": {
   "codemirror_mode": {
    "name": "ipython",
    "version": 3
   },
   "file_extension": ".py",
   "mimetype": "text/x-python",
   "name": "python",
   "nbconvert_exporter": "python",
   "pygments_lexer": "ipython3",
   "version": "3.12.5"
  }
 },
 "nbformat": 4,
 "nbformat_minor": 5
}
